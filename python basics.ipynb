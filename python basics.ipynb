{
 "cells": [
  {
   "cell_type": "markdown",
   "id": "88dc71dd-eb59-455e-b2d8-f46e0aabaa3c",
   "metadata": {},
   "source": [
    "# Python Basics Questions"
   ]
  },
  {
   "cell_type": "markdown",
   "id": "f6b831b0-104f-4be1-829f-dd918d9a0f78",
   "metadata": {},
   "source": [
    "## 1.What is Python, and why is it popular \n"
   ]
  },
  {
   "cell_type": "markdown",
   "id": "0d079f16-8347-45d8-9291-f86fe7b7ad91",
   "metadata": {},
   "source": [
    "# Ans\n",
    "Python is a high level,interpreted programming language known for its simplicity and readability.it was developed by Guido van Rossum and first released in 1991.python is clean and easy-to-learn syntax makes it an excellent choice for beginners and experienced developers alike.\n",
    " Why is python so popular?\n",
    "   * Easy to learn and use\n",
    "   * Interpreted language\n",
    "   * Versatile and multi-purpose\n",
    "   * Rich libraries and Frameworks\n",
    "   * Large Community Support\n",
    "   * Cross-Platform Compatibility\n",
    "   * Demand in Industry\n",
    "Because of these reason, python remains onr of the most popular programming language today.\n",
    "\n",
    "    \n"
   ]
  },
  {
   "cell_type": "markdown",
   "id": "a3b690ba-eff2-43fa-a3e1-7e32e6a51aab",
   "metadata": {},
   "source": [
    "# 2.What is an interpreter in Python?"
   ]
  },
  {
   "cell_type": "markdown",
   "id": "3c3132f7-37ee-4f5e-ae81-1c51babc63ed",
   "metadata": {},
   "source": [
    "# Ans\n",
    "A python interpreter is a program that execute Python code.It reads Python scripts line by linr and converts them into machine code that the computer can understand."
   ]
  },
  {
   "cell_type": "markdown",
   "id": "a24d88e2-24a5-48c4-a3ac-59fc8836ca1c",
   "metadata": {},
   "source": [
    "# 3.What are pre-defined keywords in Python?"
   ]
  },
  {
   "cell_type": "markdown",
   "id": "8fe88f9a-bde8-462f-b2a1-edf4e468d9cd",
   "metadata": {},
   "source": [
    "# Ans \n",
    "Pre-defined keywords in Pythons are reserved words that have special meanings and cannot be used as variable names ,function names,or identifiers.\n",
    "They are part of the Python Language Syntex and help in defining the structure of the code.\n",
    "1.Control flow keywords:\n",
    "  * if,elif,else-used for conditional statements.\n",
    "  * for,while-used for loops.\n",
    "  * break,continue-control loop execution.\n",
    "  * pass-A placeholder statement(does nothing).\n",
    "2.Function $ Class Keybords:\n",
    "  * def-Defines a function.\n",
    "  * return-Returns a value from a function.\n",
    "  * class-Defines a class.\n",
    "  * lambda-Defines an anonymous function.\n",
    "3.Exception handling Keybords:\n",
    "  * try,except,finally-handle error and exception\n",
    "  * raise-raise an exception.\n",
    "  * assert-Used for debugging\n",
    "4.Boolean and Logical Operator:\n",
    "  * true,false-Boolean values.\n",
    "  * and,or,not-Logical operators.\n",
    "  * is,in-for identify\n",
    "5.variable Scope and Importinf:\n",
    "  * global,nonlocal\n",
    "  * import,form,as\n",
    "6.Object and Memory Management:\n",
    "  * del-deletsobject and variable.\n",
    "  * None-represent \"nothing\" or null value. \n",
    "  "
   ]
  },
  {
   "cell_type": "markdown",
   "id": "a5adc893-4035-49bf-bd10-aed57f5adf74",
   "metadata": {},
   "source": [
    "# 4.Can keywords be used as variable names?"
   ]
  },
  {
   "cell_type": "markdown",
   "id": "c25e0051-1464-4c0a-9b73-460961438770",
   "metadata": {},
   "source": [
    "# Ans\n",
    "No keywords can't be used as varible names in python. Keywords are special reserved words that are part of python's syntax and structure .\n",
    "if you try to use a keywords as a variable name, you will get a syntax error."
   ]
  },
  {
   "cell_type": "markdown",
   "id": "dbbbaefe-0f20-484f-80ec-c2a69058f7f7",
   "metadata": {},
   "source": [
    "# 5.What is mutability in Python?"
   ]
  },
  {
   "cell_type": "markdown",
   "id": "f665ea7f-c165-4a7b-8d45-65ae4a9c62da",
   "metadata": {},
   "source": [
    "# Ans\n",
    "Mutability in Python refers to whether an object can be modified after creation or not.\n",
    " * Mutable objects-cab be changed after creation.\n",
    " * Immutable objects-can't be changed after creation. "
   ]
  },
  {
   "cell_type": "markdown",
   "id": "3007c4ba-b2d0-4546-8209-9313278cec50",
   "metadata": {},
   "source": [
    "# 6.Why are lists mutable, but tuples are immutable?"
   ]
  },
  {
   "cell_type": "markdown",
   "id": "f12e92b5-be3a-4efa-96f5-3339412596d6",
   "metadata": {},
   "source": [
    "# Ans\n",
    "List are mutable because they are designed to be flexible and allow for dynamic changes.\n",
    "Lists are often used when you need to perform operations like adding,removing,or updating elements frequently.But Tuple are meant to be used for fixed collection of items that shouldn't chgange."
   ]
  },
  {
   "cell_type": "markdown",
   "id": "d69dcc78-3c55-4561-a8a0-5179223933ed",
   "metadata": {},
   "source": [
    "# 7.What is the difference between “==” and “is” operators in Python?\n",
    "\r"
   ]
  },
  {
   "cell_type": "markdown",
   "id": "5dbf08df-0abd-4895-867f-93b25e059066",
   "metadata": {},
   "source": [
    "# Ans\n",
    "\"==\"-Check whether two object have the same value,regardless of memory location.\n",
    "\"is\"-check if two variable point to the same object in memory."
   ]
  },
  {
   "cell_type": "markdown",
   "id": "58d9bb52-11da-4460-94b8-ac29638fc516",
   "metadata": {},
   "source": [
    "# 8.What are logical operators in Python?"
   ]
  },
  {
   "cell_type": "markdown",
   "id": "a5b4bffd-29d5-4862-8ebf-f5b5c6f81cb4",
   "metadata": {},
   "source": [
    "# Ans\n",
    "Logical operators in python are keywords that evaluate conditions and combine them into a single expression.\n",
    "They are also called as boolean operators because they convert operands to boolean values.\n",
    " There are three types of logical operators\n",
    "  * and\n",
    "  * or\n",
    "  * not"
   ]
  },
  {
   "cell_type": "markdown",
   "id": "c9409c93-1a8b-4c88-bdb7-02d99195596e",
   "metadata": {},
   "source": [
    "# 9.What is type casting in Python?"
   ]
  },
  {
   "cell_type": "markdown",
   "id": "59416ac9-6eb4-4cdd-99aa-48d825d6a2f7",
   "metadata": {},
   "source": [
    "# Ans\n",
    "Type casting,also known as type conversion>>the process of changing a variable's data type into another data type.\n",
    "This conversions can be-\n",
    " * implicit\n",
    " * explicit"
   ]
  },
  {
   "cell_type": "markdown",
   "id": "44940f42-3f16-49f7-978f-9ac4c2ecc96a",
   "metadata": {},
   "source": [
    "# 10. What is the difference between implicit and explicit type casting?"
   ]
  },
  {
   "cell_type": "markdown",
   "id": "41a7bc08-066d-4793-ac2b-58e5df02c277",
   "metadata": {},
   "source": [
    "# Ans\n",
    "In implicit type casting, the programming language automatically converts data from one type to another if needed.\n",
    "For example-if you have an integer variable and you try to assign it to a float variable, the programming language will automatically convert the integer to a float without you having to do anything.But\n",
    "In explicit type casting, also known as type conversion or type coercion, occurs when the programmer explicitly converts a value from one data type to another. Unlike implicit type casting, explicit type casting requires the programmer to specify the desired data type conversion."
   ]
  },
  {
   "cell_type": "markdown",
   "id": "f32ce1ec-7bf8-480c-bd21-e4f5765188fe",
   "metadata": {},
   "source": [
    "# 11.What is the purpose of conditional statements in Python?"
   ]
  },
  {
   "cell_type": "markdown",
   "id": "9429fddc-a946-4c10-a006-e01b8b9c2025",
   "metadata": {},
   "source": [
    "# Ans\n",
    "Conditional statements in Python are used to execute specific blocks of code based on the truth value of a condition. They allow the program to make decisions and control the flow of execution, enabling different outcomes depending on whether a condition is true or false."
   ]
  },
  {
   "cell_type": "markdown",
   "id": "8345c860-2282-4a56-8e52-0b2bbf4d9619",
   "metadata": {},
   "source": [
    "# 12. How does the elif statement work?"
   ]
  },
  {
   "cell_type": "markdown",
   "id": "54833c24-5fe3-4318-82c7-2519c0a18907",
   "metadata": {},
   "source": [
    "# Ans\n",
    "Elif statements is used to check for multiple conditions in a sequence. It allows you to test a series of conditions one after another until a condition is true. Once a condition is met, the corresponding block of code is executed, and the rest of the conditions are not checked."
   ]
  },
  {
   "cell_type": "markdown",
   "id": "4d2abffb-6397-4f5b-943f-54e869f9a788",
   "metadata": {},
   "source": [
    "# 13.What is the difference between for and while loops?\n"
   ]
  },
  {
   "cell_type": "markdown",
   "id": "51554923-2134-4448-bf03-6e17a03ee8c7",
   "metadata": {},
   "source": [
    "# Ans\n",
    "While loop is repeatedly execute a block of code untile a condition is met.But\n",
    "For loop is iterate over a sequence of element>> such as iterating over a sequence like a list or tuple."
   ]
  },
  {
   "cell_type": "markdown",
   "id": "99fa6060-51f2-42bc-b627-d665c871ff1c",
   "metadata": {},
   "source": [
    "# 14.Describe a scenario where a while loop is more suitable than a for loop?"
   ]
  },
  {
   "cell_type": "markdown",
   "id": "eebe5878-eff0-4e2f-b58e-0a4682f5436a",
   "metadata": {},
   "source": [
    "# Ans\n",
    "A while loop is more suitable than a for loop in scenarios where the number of iterations is not known in advance or depends on a condition that needs to be met. For example, consider the task of counting down from 100 until a prime number is found. In this situation, the number of iterations is not known beforehand, and the loop continues until a specific condition (finding a prime number) is met."
   ]
  },
  {
   "cell_type": "markdown",
   "id": "89078040-132c-4308-a9c4-a11e290657cb",
   "metadata": {},
   "source": [
    "#                                           Practical Questions"
   ]
  },
  {
   "cell_type": "markdown",
   "id": "1c91eeb2-dc6f-4393-8daf-a16d305a9a12",
   "metadata": {},
   "source": [
    "# 1.Write a Python program to print \"Hello, World!\""
   ]
  },
  {
   "cell_type": "code",
   "execution_count": 21,
   "id": "1a47ec39-a934-4a18-8fe7-f865e27a731e",
   "metadata": {},
   "outputs": [
    {
     "name": "stdout",
     "output_type": "stream",
     "text": [
      "Hello,World!\n"
     ]
    }
   ],
   "source": [
    "print(\"Hello,World!\")"
   ]
  },
  {
   "cell_type": "markdown",
   "id": "afee63f4-62c5-4547-8557-e21743101060",
   "metadata": {},
   "source": [
    "# 2.Write a Python program that displays your name and age."
   ]
  },
  {
   "cell_type": "code",
   "execution_count": 22,
   "id": "ba272ba5-9aeb-4c0f-99f9-5a8c19986f25",
   "metadata": {},
   "outputs": [
    {
     "name": "stdout",
     "output_type": "stream",
     "text": [
      "my name is Ritik kumar\n",
      "i am 20 years old\n"
     ]
    }
   ],
   "source": [
    "name=\"Ritik kumar\"\n",
    "age= 20\n",
    "print(\"my name is\",name)\n",
    "print(\"i am\",age,\"years old\")"
   ]
  },
  {
   "cell_type": "markdown",
   "id": "54e0f56f-ea6d-474d-a49e-6ba7c3e1024d",
   "metadata": {},
   "source": [
    "# 3.Write code to print all the pre-defined keywords in Python using the keyword library."
   ]
  },
  {
   "cell_type": "code",
   "execution_count": 23,
   "id": "ccf10556-f54d-4ea4-b550-d58e2db049fb",
   "metadata": {},
   "outputs": [
    {
     "name": "stdout",
     "output_type": "stream",
     "text": [
      "['False', 'None', 'True', 'and', 'as', 'assert', 'async', 'await', 'break', 'class', 'continue', 'def', 'del', 'elif', 'else', 'except', 'finally', 'for', 'from', 'global', 'if', 'import', 'in', 'is', 'lambda', 'nonlocal', 'not', 'or', 'pass', 'raise', 'return', 'try', 'while', 'with', 'yield']\n"
     ]
    }
   ],
   "source": [
    "import keyword\n",
    "print(keyword.kwlist)"
   ]
  },
  {
   "cell_type": "markdown",
   "id": "4cb149f0-8390-435d-b06d-14837d48f59c",
   "metadata": {},
   "source": [
    "# 4.Write a program that checks if a given word is a Python keyword.\n"
   ]
  },
  {
   "cell_type": "code",
   "execution_count": 24,
   "id": "9ad468b8-ef89-4e5d-96e9-9a4ed0605058",
   "metadata": {},
   "outputs": [
    {
     "name": "stdin",
     "output_type": "stream",
     "text": [
      "Enter a word to check if it's a Python keyword:  6\n"
     ]
    },
    {
     "name": "stdout",
     "output_type": "stream",
     "text": [
      "'6' is not a Python keyword.\n"
     ]
    }
   ],
   "source": [
    "import keyword\n",
    "def check_keyword(word):\n",
    "    if keyword.iskeyword(word):\n",
    "        print(f\"'{word}' is a Python keyword.\")\n",
    "    else:\n",
    "        print(f\"'{word}' is not a Python keyword.\")\n",
    "word = input(\"Enter a word to check if it's a Python keyword: \")\n",
    "check_keyword(word)"
   ]
  },
  {
   "cell_type": "markdown",
   "id": "eb24b098-b4b8-455f-b938-0fe1165976c5",
   "metadata": {},
   "source": [
    "# 5. Create a list and tuple in Python, and demonstrate how attempting to change an element works differently for each\n",
    "\n"
   ]
  },
  {
   "cell_type": "code",
   "execution_count": 25,
   "id": "8c02f381-1522-4d9d-90e4-aa5222be2fdd",
   "metadata": {},
   "outputs": [
    {
     "name": "stdout",
     "output_type": "stream",
     "text": [
      "Original List: [10, 20, 30]\n",
      "Modified List: [10, 50, 30]\n",
      "\n",
      "Original Tuple: (10, 20, 30)\n",
      "Error: 'tuple' object does not support item assignment\n"
     ]
    }
   ],
   "source": [
    "my_list = [10, 20, 30]\n",
    "print(\"Original List:\", my_list)\n",
    "my_list[1] = 50  \n",
    "print(\"Modified List:\", my_list)\n",
    "\n",
    "my_tuple = (10, 20, 30)\n",
    "print(\"\\nOriginal Tuple:\", my_tuple)\n",
    "\n",
    "try:\n",
    "    my_tuple[1] = 50 \n",
    "except TypeError as e:\n",
    "    print(\"Error:\", e)\n"
   ]
  },
  {
   "cell_type": "markdown",
   "id": "c67a1a6f-b23c-49fd-aed1-f603498b9466",
   "metadata": {},
   "source": [
    "# 6. Write a function to demonstrate the behavior of mutable and immutable arguments."
   ]
  },
  {
   "cell_type": "code",
   "execution_count": 26,
   "id": "7aac1d2a-4c84-41d8-a365-53313c33b659",
   "metadata": {},
   "outputs": [
    {
     "name": "stdout",
     "output_type": "stream",
     "text": [
      "Before Function Call - List: [1, 2, 3]\n",
      "Before Function Call - Number: 50\n",
      "Inside Function - Mutable List: [1, 2, 3, 100]\n",
      "Inside Function - Immutable Number: 60\n",
      "\n",
      "After Function Call - List: [1, 2, 3, 100]\n",
      "After Function Call - Number: 50\n"
     ]
    }
   ],
   "source": [
    "def modify_arguments(mut_list, imm_number):\n",
    "   \n",
    "    mut_list.append(100)      \n",
    "    imm_number += 10 \n",
    "\n",
    "    print(\"Inside Function - Mutable List:\", mut_list)\n",
    "    print(\"Inside Function - Immutable Number:\", imm_number)\n",
    "\n",
    "\n",
    "my_list = [1, 2, 3]\n",
    "my_number = 50\n",
    "\n",
    "print(\"Before Function Call - List:\", my_list)\n",
    "print(\"Before Function Call - Number:\", my_number)\n",
    "\n",
    "modify_arguments(my_list, my_number)\n",
    "\n",
    "print(\"\\nAfter Function Call - List:\", my_list) \n",
    "print(\"After Function Call - Number:\", my_number) \n"
   ]
  },
  {
   "cell_type": "markdown",
   "id": "dd51db7b-0638-4003-8117-b3bffe3f5cd8",
   "metadata": {},
   "source": [
    "# 7.  Write a program that performs basic arithmetic operations on two user-input numbers.\n"
   ]
  },
  {
   "cell_type": "code",
   "execution_count": 30,
   "id": "56be1bdc-56d5-48a4-a7c8-fef00fc01a66",
   "metadata": {},
   "outputs": [
    {
     "name": "stdout",
     "output_type": "stream",
     "text": [
      "Welcome to my Calco World!\n"
     ]
    },
    {
     "name": "stdin",
     "output_type": "stream",
     "text": [
      "Enter the first number:  5\n",
      "Enter the operator (+, -, *, /):  +\n",
      "Enter the second number:  7\n"
     ]
    },
    {
     "name": "stdout",
     "output_type": "stream",
     "text": [
      "Result: 5.0 + 7.0 = 12.0\n"
     ]
    }
   ],
   "source": [
    "def calculator(num1, num2, operator):\n",
    "    if operator == '+':\n",
    "        return num1 + num2\n",
    "    elif operator == '-':\n",
    "        return num1 - num2\n",
    "    elif operator == '*':\n",
    "        return num1 * num2\n",
    "    elif operator == '/':\n",
    "        if num2 != 0:\n",
    "            return num1 / num2\n",
    "        else:\n",
    "            return \"Error: Division by zero\"\n",
    "    else:\n",
    "        return \"Error: Invalid operator! Use +, -, *, / only.\"\n",
    "\n",
    "print(\"Welcome to my Calco World!\")  \n",
    "\n",
    "try:\n",
    "    num1 = float(input(\"Enter the first number: \"))\n",
    "    operator = input(\"Enter the operator (+, -, *, /): \")\n",
    "    num2 = float(input(\"Enter the second number: \"))\n",
    "    \n",
    "    result = calculator(num1, num2, operator)\n",
    "    print(f\"Result: {num1} {operator} {num2} = {result}\")\n",
    "\n",
    "except ValueError:\n",
    "    print(\"Error: Please enter valid numbers.\")\n",
    "\n"
   ]
  },
  {
   "cell_type": "markdown",
   "id": "cae167f8-6a37-4e7d-b277-0927883a9c3d",
   "metadata": {},
   "source": [
    "# 8.  Write a program to demonstrate the use of logical operators."
   ]
  },
  {
   "cell_type": "code",
   "execution_count": 31,
   "id": "3824491c-547d-4e97-b288-b2ad8223250f",
   "metadata": {},
   "outputs": [
    {
     "name": "stdin",
     "output_type": "stream",
     "text": [
      "Enter your age:  20\n",
      "Do you have an ID? (yes/no):  \\yes\n"
     ]
    },
    {
     "name": "stdout",
     "output_type": "stream",
     "text": [
      " You need an ID to vote.\n",
      "\n",
      "Logical Operators Examples:\n",
      "True and False  → False\n",
      "True or False   → True\n",
      "not True        → False\n",
      "not False       → True\n"
     ]
    }
   ],
   "source": [
    "age = int(input(\"Enter your age: \"))\n",
    "has_id = input(\"Do you have an ID? (yes/no): \").strip().lower() == \"yes\"\n",
    "\n",
    "if age >= 18 and has_id:\n",
    "    print(\" You are eligible to vote!\")\n",
    "elif age >= 18 and not has_id:\n",
    "    print(\" You need an ID to vote.\")\n",
    "else:\n",
    "    print(\" You are not eligible to vote.\")\n",
    "\n",
    "a = True\n",
    "b = False\n",
    "\n",
    "print(\"\\nLogical Operators Examples:\")\n",
    "print(f\"True and False  → {a and b}\")  # False\n",
    "print(f\"True or False   → {a or b}\")   # True\n",
    "print(f\"not True        → {not a}\")    # False\n",
    "print(f\"not False       → {not b}\")    # True\n",
    "\n"
   ]
  },
  {
   "cell_type": "markdown",
   "id": "f5c89b86-93c7-40e7-af94-3dc3dc4f06fc",
   "metadata": {},
   "source": [
    "# 9. Write a Python program to convert user input from string to integer, float, and boolean types."
   ]
  },
  {
   "cell_type": "code",
   "execution_count": 32,
   "id": "cf17088e-a338-45ae-9e28-ac01af03415e",
   "metadata": {},
   "outputs": [
    {
     "name": "stdin",
     "output_type": "stream",
     "text": [
      "Enter a value:  5\n"
     ]
    },
    {
     "name": "stdout",
     "output_type": "stream",
     "text": [
      "Integer Conversion: 5 (Type: <class 'int'>)\n",
      "Float Conversion: 5.0 (Type: <class 'float'>)\n",
      "Boolean Conversion: True (Type: <class 'bool'>)\n"
     ]
    }
   ],
   "source": [
    "user_input = input(\"Enter a value: \")\n",
    "\n",
    "try:\n",
    "    int_value = int(user_input)\n",
    "    print(f\"Integer Conversion: {int_value} (Type: {type(int_value)})\")\n",
    "except ValueError:\n",
    "    print(\" Cannot convert to Integer\")\n",
    "\n",
    "try:\n",
    "    float_value = float(user_input)\n",
    "    print(f\"Float Conversion: {float_value} (Type: {type(float_value)})\")\n",
    "except ValueError:\n",
    "    print(\" Cannot convert to Float\")\n",
    "\n",
    "bool_value = bool(user_input)  \n",
    "print(f\"Boolean Conversion: {bool_value} (Type: {type(bool_value)})\")\n"
   ]
  },
  {
   "cell_type": "markdown",
   "id": "0e57635b-d6a2-4d35-868a-c60b2fe45a0d",
   "metadata": {},
   "source": [
    "# 10. Write code to demonstrate type casting with list elements."
   ]
  },
  {
   "cell_type": "code",
   "execution_count": 33,
   "id": "f325985a-27bd-42e0-b709-f0ece1d368c9",
   "metadata": {},
   "outputs": [
    {
     "name": "stdout",
     "output_type": "stream",
     "text": [
      "Integer List: [10, 20, 30, 0] (Type: <class 'int'>)\n",
      "Float List: [10.0, 20.0, 30.0, 40.5, 50.8, 0.0] (Type: <class 'float'>)\n",
      "Boolean List: [True, True, True, True, True, False, True] (Type: <class 'bool'>)\n"
     ]
    }
   ],
   "source": [
    "str_list = [\"10\", \"20\", \"30\", \"40.5\", \"50.8\", \"\", \"0\"]\n",
    "\n",
    "try:\n",
    "    int_list = [int(x) for x in str_list if x.isdigit()] \n",
    "    print(f\"Integer List: {int_list} (Type: {type(int_list[0])})\")\n",
    "except ValueError:\n",
    "    print(\" Cannot convert all elements to integer\")\n",
    "\n",
    "try:\n",
    "    float_list = [float(x) for x in str_list if x] \n",
    "    print(f\"Float List: {float_list} (Type: {type(float_list[0])})\")\n",
    "except ValueError:\n",
    "    print(\" Cannot convert all elements to float\")\n",
    "\n",
    "bool_list = [bool(x) for x in str_list] \n",
    "print(f\"Boolean List: {bool_list} (Type: {type(bool_list[0])})\")\n",
    "\n"
   ]
  },
  {
   "cell_type": "markdown",
   "id": "44106498-f71e-4f9c-89fd-0423ccf25cfb",
   "metadata": {},
   "source": [
    "# 11.  Write a program that checks if a number is positive, negative, or zero"
   ]
  },
  {
   "cell_type": "code",
   "execution_count": 34,
   "id": "c6f90fc3-add9-4a92-814c-e630f2279515",
   "metadata": {},
   "outputs": [
    {
     "name": "stdin",
     "output_type": "stream",
     "text": [
      "Enter a number:  56\n"
     ]
    },
    {
     "name": "stdout",
     "output_type": "stream",
     "text": [
      "56.0 is a Positive number.\n"
     ]
    }
   ],
   "source": [
    "num = float(input(\"Enter a number: \"))\n",
    "\n",
    "if num > 0:\n",
    "    print(f\"{num} is a Positive number.\")\n",
    "elif num < 0:\n",
    "    print(f\"{num} is a Negative number.\")\n",
    "else:\n",
    "    print(f\"{num} is Zero.\")\n"
   ]
  },
  {
   "cell_type": "markdown",
   "id": "0ecf172b-c5dc-40c0-bc23-29aa340f1f7a",
   "metadata": {},
   "source": [
    "# 12. Write a for loop to print numbers from 1 to 10.\n",
    "\n"
   ]
  },
  {
   "cell_type": "code",
   "execution_count": 35,
   "id": "59586a6b-ba00-4b15-b8aa-3b3479349c81",
   "metadata": {},
   "outputs": [
    {
     "name": "stdout",
     "output_type": "stream",
     "text": [
      "1\n",
      "2\n",
      "3\n",
      "4\n",
      "5\n",
      "6\n",
      "7\n",
      "8\n",
      "9\n",
      "10\n"
     ]
    }
   ],
   "source": [
    "for num in range(1, 11):\n",
    "    print(num)\n"
   ]
  },
  {
   "cell_type": "markdown",
   "id": "3705e41e-6193-4123-bbe7-19a91b859358",
   "metadata": {},
   "source": [
    "# 13.  Write a Python program to find the sum of all even numbers between 1 and 50."
   ]
  },
  {
   "cell_type": "code",
   "execution_count": 36,
   "id": "6e2e29b6-21c7-4e67-a904-8218b44dc1ba",
   "metadata": {},
   "outputs": [
    {
     "name": "stdout",
     "output_type": "stream",
     "text": [
      "Sum of all even numbers between 1 and 50: 650\n"
     ]
    }
   ],
   "source": [
    "even_sum = 0\n",
    "\n",
    "for num in range(2, 51, 2):  \n",
    "    even_sum += num\n",
    "\n",
    "print(f\"Sum of all even numbers between 1 and 50: {even_sum}\")\n"
   ]
  },
  {
   "cell_type": "markdown",
   "id": "6ec7f76f-1cc3-4440-b0c0-911ef12f94c6",
   "metadata": {},
   "source": [
    "# 14. Write a program to reverse a string using a while loop."
   ]
  },
  {
   "cell_type": "code",
   "execution_count": 37,
   "id": "232c1763-8feb-4d1d-8530-6b57a7cf720d",
   "metadata": {},
   "outputs": [
    {
     "name": "stdin",
     "output_type": "stream",
     "text": [
      "Enter a string:  \"ritikkumar\"\n"
     ]
    },
    {
     "name": "stdout",
     "output_type": "stream",
     "text": [
      "Reversed String: \"ramukkitir\"\n"
     ]
    }
   ],
   "source": [
    "string = input(\"Enter a string: \")\n",
    "\n",
    "reversed_string = \"\"\n",
    "index = len(string) - 1  \n",
    "\n",
    "while index >= 0:\n",
    "    reversed_string += string[index]\n",
    "    index -= 1 \n",
    "    \n",
    "print(f\"Reversed String: {reversed_string}\")\n"
   ]
  },
  {
   "cell_type": "markdown",
   "id": "04c3953c-7eae-4542-9d75-19bdb7fdec99",
   "metadata": {},
   "source": [
    "# 15. Write a Python program to calculate the factorial of a number provided by the user using a while loop"
   ]
  },
  {
   "cell_type": "code",
   "execution_count": 38,
   "id": "75bc7b66-81fe-4774-9351-ddbb44e664fa",
   "metadata": {},
   "outputs": [
    {
     "name": "stdin",
     "output_type": "stream",
     "text": [
      "Enter a number:  6\n"
     ]
    },
    {
     "name": "stdout",
     "output_type": "stream",
     "text": [
      "Factorial of 6 is 720\n"
     ]
    }
   ],
   "source": [
    "num = int(input(\"Enter a number: \"))\n",
    "\n",
    "factorial = 1\n",
    "i = num  \n",
    "\n",
    "while i > 0:\n",
    "    factorial *= i \n",
    "    i -= 1 \n",
    "\n",
    "print(f\"Factorial of {num} is {factorial}\")\n"
   ]
  },
  {
   "cell_type": "code",
   "execution_count": null,
   "id": "c7b2014b-8141-4c58-b7d5-8e87e894acd0",
   "metadata": {},
   "outputs": [],
   "source": []
  }
 ],
 "metadata": {
  "kernelspec": {
   "display_name": "Python 3 (ipykernel)",
   "language": "python",
   "name": "python3"
  },
  "language_info": {
   "codemirror_mode": {
    "name": "ipython",
    "version": 3
   },
   "file_extension": ".py",
   "mimetype": "text/x-python",
   "name": "python",
   "nbconvert_exporter": "python",
   "pygments_lexer": "ipython3",
   "version": "3.11.7"
  }
 },
 "nbformat": 4,
 "nbformat_minor": 5
}
